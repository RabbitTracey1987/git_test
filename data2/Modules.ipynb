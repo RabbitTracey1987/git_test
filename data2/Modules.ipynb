{
 "metadata": {
  "name": "",
  "signature": "sha256:04ee4cafa1ffb92e2a96ab94cc57b90816e27a3c2d73bf102469db8e7ceae774"
 },
 "nbformat": 3,
 "nbformat_minor": 0,
 "worksheets": [
  {
   "cells": [
    {
     "cell_type": "code",
     "collapsed": false,
     "input": [
      "ls"
     ],
     "language": "python",
     "metadata": {},
     "outputs": [
      {
       "output_type": "stream",
       "stream": "stdout",
       "text": [
        "Analyzing Patient Data.ipynb  inflammation-06.csv  Modules.ipynb\r\n",
        "\u001b[0m\u001b[01;34mbin\u001b[0m/                          inflammation-07.csv  small-01.csv\r\n",
        "\u001b[01;34mdata\u001b[0m/                         inflammation-08.csv  small-02.csv\r\n",
        "Function.ipynb                inflammation-09.csv  small-03.csv\r\n",
        "inflammation-01.csv           inflammation-10.csv  temperature.py\r\n",
        "inflammation-02.csv           inflammation-11.csv  temperature.py~\r\n",
        "inflammation-03.csv           inflammation-12.csv  \u001b[01;34mtmp\u001b[0m/\r\n",
        "inflammation-04.csv           locs                 \u001b[01;34mUsers\u001b[0m/\r\n",
        "inflammation-05.csv           Loop.ipynb\r\n"
       ]
      }
     ],
     "prompt_number": 1
    },
    {
     "cell_type": "code",
     "collapsed": false,
     "input": [
      "import temperature"
     ],
     "language": "python",
     "metadata": {},
     "outputs": [],
     "prompt_number": 3
    },
    {
     "cell_type": "code",
     "collapsed": false,
     "input": [
      "temperature.f_c(32)"
     ],
     "language": "python",
     "metadata": {},
     "outputs": [
      {
       "ename": "AttributeError",
       "evalue": "'module' object has no attribute 'f_c'",
       "output_type": "pyerr",
       "traceback": [
        "\u001b[1;31m---------------------------------------------------------------------------\u001b[0m\n\u001b[1;31mAttributeError\u001b[0m                            Traceback (most recent call last)",
        "\u001b[1;32m<ipython-input-4-0ea403e620b8>\u001b[0m in \u001b[0;36m<module>\u001b[1;34m()\u001b[0m\n\u001b[1;32m----> 1\u001b[1;33m \u001b[0mtemperature\u001b[0m\u001b[1;33m.\u001b[0m\u001b[0mf_c\u001b[0m\u001b[1;33m(\u001b[0m\u001b[1;36m32\u001b[0m\u001b[1;33m)\u001b[0m\u001b[1;33m\u001b[0m\u001b[0m\n\u001b[0m",
        "\u001b[1;31mAttributeError\u001b[0m: 'module' object has no attribute 'f_c'"
       ]
      }
     ],
     "prompt_number": 4
    }
   ],
   "metadata": {}
  }
 ]
}