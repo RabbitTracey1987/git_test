{
 "metadata": {
  "name": "",
  "signature": "sha256:fb30f0cde7d943798b24bd1ddb9cf75295e1f32b04ad8462576c2f88cf1b882e"
 },
 "nbformat": 3,
 "nbformat_minor": 0,
 "worksheets": [
  {
   "cells": [
    {
     "cell_type": "code",
     "collapsed": false,
     "input": [
      "s = \"words\""
     ],
     "language": "python",
     "metadata": {},
     "outputs": [],
     "prompt_number": 2
    },
    {
     "cell_type": "code",
     "collapsed": false,
     "input": [
      "s[1]"
     ],
     "language": "python",
     "metadata": {},
     "outputs": [
      {
       "metadata": {},
       "output_type": "pyout",
       "prompt_number": 3,
       "text": [
        "'o'"
       ]
      }
     ],
     "prompt_number": 3
    },
    {
     "cell_type": "code",
     "collapsed": false,
     "input": [
      "s[0:5]"
     ],
     "language": "python",
     "metadata": {},
     "outputs": [
      {
       "metadata": {},
       "output_type": "pyout",
       "prompt_number": 4,
       "text": [
        "'words'"
       ]
      }
     ],
     "prompt_number": 4
    },
    {
     "cell_type": "code",
     "collapsed": false,
     "input": [
      "s[-3]"
     ],
     "language": "python",
     "metadata": {},
     "outputs": [
      {
       "metadata": {},
       "output_type": "pyout",
       "prompt_number": 5,
       "text": [
        "'r'"
       ]
      }
     ],
     "prompt_number": 5
    },
    {
     "cell_type": "code",
     "collapsed": false,
     "input": [
      "s[0:4:2]"
     ],
     "language": "python",
     "metadata": {},
     "outputs": [
      {
       "metadata": {},
       "output_type": "pyout",
       "prompt_number": 6,
       "text": [
        "'wr'"
       ]
      }
     ],
     "prompt_number": 6
    },
    {
     "cell_type": "code",
     "collapsed": false,
     "input": [
      "s[4:2:-1]"
     ],
     "language": "python",
     "metadata": {},
     "outputs": [
      {
       "metadata": {},
       "output_type": "pyout",
       "prompt_number": 8,
       "text": [
        "'sd'"
       ]
      }
     ],
     "prompt_number": 8
    },
    {
     "cell_type": "code",
     "collapsed": false,
     "input": [
      "for letter in s:\n",
      "    print(letter)"
     ],
     "language": "python",
     "metadata": {},
     "outputs": [
      {
       "output_type": "stream",
       "stream": "stdout",
       "text": [
        "w\n",
        "o\n",
        "r\n",
        "d\n",
        "s\n"
       ]
      }
     ],
     "prompt_number": 10
    },
    {
     "cell_type": "code",
     "collapsed": false,
     "input": [
      "odds = [1 ,3 ,5, 7]"
     ],
     "language": "python",
     "metadata": {},
     "outputs": [],
     "prompt_number": 11
    },
    {
     "cell_type": "code",
     "collapsed": false,
     "input": [
      "type(odds)"
     ],
     "language": "python",
     "metadata": {},
     "outputs": [
      {
       "metadata": {},
       "output_type": "pyout",
       "prompt_number": 12,
       "text": [
        "list"
       ]
      }
     ],
     "prompt_number": 12
    },
    {
     "cell_type": "code",
     "collapsed": false,
     "input": [
      "odds[2]"
     ],
     "language": "python",
     "metadata": {},
     "outputs": [
      {
       "metadata": {},
       "output_type": "pyout",
       "prompt_number": 13,
       "text": [
        "5"
       ]
      }
     ],
     "prompt_number": 13
    },
    {
     "cell_type": "code",
     "collapsed": false,
     "input": [
      "x = 10"
     ],
     "language": "python",
     "metadata": {},
     "outputs": [],
     "prompt_number": 14
    },
    {
     "cell_type": "code",
     "collapsed": false,
     "input": [
      "odds[2] = 0"
     ],
     "language": "python",
     "metadata": {},
     "outputs": [],
     "prompt_number": 17
    },
    {
     "cell_type": "code",
     "collapsed": false,
     "input": [
      "import glob"
     ],
     "language": "python",
     "metadata": {},
     "outputs": [],
     "prompt_number": 20
    },
    {
     "cell_type": "code",
     "collapsed": false,
     "input": [
      "glob.glob('inflammation*')"
     ],
     "language": "python",
     "metadata": {},
     "outputs": [
      {
       "metadata": {},
       "output_type": "pyout",
       "prompt_number": 24,
       "text": [
        "['inflammation-03.csv',\n",
        " 'inflammation-12.csv',\n",
        " 'inflammation-08.csv',\n",
        " 'inflammation-02.csv',\n",
        " 'inflammation-07.csv',\n",
        " 'inflammation-04.csv',\n",
        " 'inflammation-10.csv',\n",
        " 'inflammation-09.csv',\n",
        " 'inflammation-11.csv',\n",
        " 'inflammation-01.csv',\n",
        " 'inflammation-06.csv',\n",
        " 'inflammation-05.csv']"
       ]
      }
     ],
     "prompt_number": 24
    },
    {
     "cell_type": "code",
     "collapsed": false,
     "input": [
      "inflammation_files = glob.glob(\"inflammation*\")"
     ],
     "language": "python",
     "metadata": {},
     "outputs": [],
     "prompt_number": 28
    },
    {
     "cell_type": "code",
     "collapsed": false,
     "input": [
      "type(inflammation_files)"
     ],
     "language": "python",
     "metadata": {},
     "outputs": [
      {
       "metadata": {},
       "output_type": "pyout",
       "prompt_number": 29,
       "text": [
        "list"
       ]
      }
     ],
     "prompt_number": 29
    },
    {
     "cell_type": "code",
     "collapsed": false,
     "input": [
      "inflammation_files"
     ],
     "language": "python",
     "metadata": {},
     "outputs": [
      {
       "metadata": {},
       "output_type": "pyout",
       "prompt_number": 30,
       "text": [
        "['inflammation-03.csv',\n",
        " 'inflammation-12.csv',\n",
        " 'inflammation-08.csv',\n",
        " 'inflammation-02.csv',\n",
        " 'inflammation-07.csv',\n",
        " 'inflammation-04.csv',\n",
        " 'inflammation-10.csv',\n",
        " 'inflammation-09.csv',\n",
        " 'inflammation-11.csv',\n",
        " 'inflammation-01.csv',\n",
        " 'inflammation-06.csv',\n",
        " 'inflammation-05.csv']"
       ]
      }
     ],
     "prompt_number": 30
    },
    {
     "cell_type": "code",
     "collapsed": false,
     "input": [
      "%%bash\n",
      "ls *.csv"
     ],
     "language": "python",
     "metadata": {},
     "outputs": [
      {
       "output_type": "stream",
       "stream": "stdout",
       "text": [
        "inflammation-01.csv\n",
        "inflammation-02.csv\n",
        "inflammation-03.csv\n",
        "inflammation-04.csv\n",
        "inflammation-05.csv\n",
        "inflammation-06.csv\n",
        "inflammation-07.csv\n",
        "inflammation-08.csv\n",
        "inflammation-09.csv\n",
        "inflammation-10.csv\n",
        "inflammation-11.csv\n",
        "inflammation-12.csv\n",
        "small-01.csv\n",
        "small-02.csv\n",
        "small-03.csv\n"
       ]
      }
     ],
     "prompt_number": 49
    },
    {
     "cell_type": "code",
     "collapsed": false,
     "input": [
      "import numpy\n",
      "import matplotlib.p\n",
      "\n",
      "%matplotlib inline\n",
      "\n",
      "for inflammation_file in inflammation_files:\n",
      "    data = numpy.loadtxt(fname=inflammation_file, delimiter=',')\n",
      "    \n",
      "    fig = matplotlib.pyplot.figure(figsize=(10.0, 3.0))\n",
      "    \n",
      "    axes1 = fig.add(subplot(1, 3, 1))\n",
      "    axes2 = fig.add(subplot(1, 3, 2))\n",
      "    axes3 = fig.add(subplot(1, 3, 3))\n",
      "    \n",
      "    aces1.set_ylabel('average')\n",
      "    axes1.plot(data.mean(axis=0))\n",
      "    \n",
      "    aces2.set_ylabel('max')\n",
      "    axes2.plot(data.mean(axis=0))\n",
      "    \n",
      "    aces3.set_ylabel('min')\n",
      "    axes3.plot(data.mean(axis=0))\n",
      "    \n",
      "    fig.tight_layout()\n",
      "    \n",
      "    matplotlib.pyplot.show(fig)"
     ],
     "language": "python",
     "metadata": {},
     "outputs": [
      {
       "ename": "SyntaxError",
       "evalue": "invalid syntax (<ipython-input-67-af1f92957549>, line 11)",
       "output_type": "pyerr",
       "traceback": [
        "\u001b[1;36m  File \u001b[1;32m\"<ipython-input-67-af1f92957549>\"\u001b[1;36m, line \u001b[1;32m11\u001b[0m\n\u001b[1;33m    axes1 = fig.add)subplot(1, 3, 1)\u001b[0m\n\u001b[1;37m                   ^\u001b[0m\n\u001b[1;31mSyntaxError\u001b[0m\u001b[1;31m:\u001b[0m invalid syntax\n"
       ]
      }
     ],
     "prompt_number": 67
    },
    {
     "cell_type": "code",
     "collapsed": false,
     "input": [
      "num = 101"
     ],
     "language": "python",
     "metadata": {},
     "outputs": [],
     "prompt_number": 59
    },
    {
     "cell_type": "code",
     "collapsed": false,
     "input": [
      "if num > 100:\n",
      "    print(\"greater than 100\")\n",
      "elif num > 50:\n",
      "    print(\"greater than 50\")"
     ],
     "language": "python",
     "metadata": {},
     "outputs": [
      {
       "output_type": "stream",
       "stream": "stdout",
       "text": [
        "greater than 100\n"
       ]
      }
     ],
     "prompt_number": 64
    },
    {
     "cell_type": "code",
     "collapsed": false,
     "input": [
      "try:\n",
      "    x = 3;\n",
      "    x + asdf\n",
      "except NameError as e:\n",
      "    print(e)\n",
      "    print(\"bad\")"
     ],
     "language": "python",
     "metadata": {},
     "outputs": [
      {
       "output_type": "stream",
       "stream": "stdout",
       "text": [
        "name 'asdf' is not defined\n",
        "bad\n"
       ]
      }
     ],
     "prompt_number": 65
    },
    {
     "cell_type": "code",
     "collapsed": false,
     "input": [
      "throw ValueError(\"I don't like that value.\")"
     ],
     "language": "python",
     "metadata": {},
     "outputs": [
      {
       "ename": "SyntaxError",
       "evalue": "invalid syntax (<ipython-input-66-ce7b832245cc>, line 1)",
       "output_type": "pyerr",
       "traceback": [
        "\u001b[1;36m  File \u001b[1;32m\"<ipython-input-66-ce7b832245cc>\"\u001b[1;36m, line \u001b[1;32m1\u001b[0m\n\u001b[1;33m    throw ValueError(\"I don't like that value.\")\u001b[0m\n\u001b[1;37m                   ^\u001b[0m\n\u001b[1;31mSyntaxError\u001b[0m\u001b[1;31m:\u001b[0m invalid syntax\n"
       ]
      }
     ],
     "prompt_number": 66
    }
   ],
   "metadata": {}
  }
 ]
}